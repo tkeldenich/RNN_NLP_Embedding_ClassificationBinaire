{
  "nbformat": 4,
  "nbformat_minor": 0,
  "metadata": {
    "colab": {
      "name": "RNN_NLP_Embedding_ClassificationBinaire.ipynb",
      "provenance": [],
      "collapsed_sections": []
    },
    "kernelspec": {
      "name": "python3",
      "display_name": "Python 3"
    },
    "accelerator": "GPU"
  },
  "cells": [
    {
      "cell_type": "markdown",
      "metadata": {
        "id": "4aLC4ajxpJGM"
      },
      "source": [
        "# **Implémentation d'un RNN avec Keras** - [voir l'article](https://inside-machinelearning.com/les-reseaux-de-neurones-recurrents-rnn/)"
      ]
    },
    {
      "cell_type": "markdown",
      "metadata": {
        "id": "I_SyLblrowYk"
      },
      "source": [
        "## **Charger les données**"
      ]
    },
    {
      "cell_type": "markdown",
      "metadata": {
        "id": "ZhF_r4rQpB-u"
      },
      "source": [
        "Pour **ce notebook**, nous allons utiliser le même **jeu de données** que dans [cet article](https://inside-machinelearning.com/un-modele-classification-binaire-en-nlp/).\n",
        "\n",
        "Nous devons donc **entraîner notre modèle** sur des critiques de cinéma. Une fois que l'**apprentissage** sera réalisé, le modèle pourra **détecter** si une critique est **positive** ou **négative** !\n",
        "\n",
        "Les critiques sont **déjà encodés** de telle sorte qu'**un même mot est représenté par un même chiffre** et donc une phrase par une suite de chiffre.\n",
        "\n",
        "Par **exemple** :\n",
        "\"un chat attrape un oiseau\" sera représenté par [1, 2, 3, 1, 4].\n",
        "\n"
      ]
    },
    {
      "cell_type": "markdown",
      "metadata": {
        "id": "S13-mS-nrD_v"
      },
      "source": [
        "Les **critiques dans notre jeu de données** sont très longues et nous voulons que notre modèle apprenne vite. On **réduit** donc **le nombre de mots de chaque critique** pour prendre seulement les **1000 qui apparaissent le plus fréquemment !**\n",
        "\n",
        "On **charge ces critiques** avec la fonction *imdb.load_data()* en précisant que nous voulons **au maximum 1000 mots**.\n",
        "\n",
        "On aura par la suite :\n",
        "- les **critiques** contenues dans *x_train* et *x_test*\n",
        "- le **sentiment** (1 pour 'positif' ou 0 pour 'négatif') de chaque critique contenus dans *y_train* et *y_test*"
      ]
    },
    {
      "cell_type": "code",
      "metadata": {
        "colab": {
          "base_uri": "https://localhost:8080/"
        },
        "id": "cXOIF7pgmlku",
        "outputId": "30547726-ca64-4b28-bccb-156f4cf6e991"
      },
      "source": [
        "from keras.datasets import imdb\n",
        "from keras.preprocessing import sequence\n",
        "\n",
        "max_features = 1000\n",
        "\n",
        "(x_train, y_train), (x_test, y_test) = imdb.load_data(num_words=max_features)\n",
        "\n",
        "print(len(x_train), 'train sequences')\n",
        "print(len(x_test), 'test sequences')"
      ],
      "execution_count": 1,
      "outputs": [
        {
          "output_type": "stream",
          "text": [
            "<string>:6: VisibleDeprecationWarning: Creating an ndarray from ragged nested sequences (which is a list-or-tuple of lists-or-tuples-or ndarrays with different lengths or shapes) is deprecated. If you meant to do this, you must specify 'dtype=object' when creating the ndarray\n",
            "/usr/local/lib/python3.7/dist-packages/tensorflow/python/keras/datasets/imdb.py:159: VisibleDeprecationWarning: Creating an ndarray from ragged nested sequences (which is a list-or-tuple of lists-or-tuples-or ndarrays with different lengths or shapes) is deprecated. If you meant to do this, you must specify 'dtype=object' when creating the ndarray\n",
            "  x_train, y_train = np.array(xs[:idx]), np.array(labels[:idx])\n",
            "/usr/local/lib/python3.7/dist-packages/tensorflow/python/keras/datasets/imdb.py:160: VisibleDeprecationWarning: Creating an ndarray from ragged nested sequences (which is a list-or-tuple of lists-or-tuples-or ndarrays with different lengths or shapes) is deprecated. If you meant to do this, you must specify 'dtype=object' when creating the ndarray\n",
            "  x_test, y_test = np.array(xs[idx:]), np.array(labels[idx:])\n"
          ],
          "name": "stderr"
        },
        {
          "output_type": "stream",
          "text": [
            "25000 train sequences\n",
            "25000 test sequences\n"
          ],
          "name": "stdout"
        }
      ]
    },
    {
      "cell_type": "markdown",
      "metadata": {
        "id": "H2euo7ectu47"
      },
      "source": [
        "## **Preprocessing**"
      ]
    },
    {
      "cell_type": "markdown",
      "metadata": {
        "id": "bbTaGTi-wMGg"
      },
      "source": [
        "Il y a une dernière étape **avant d'entraîner le modèle**, le **preprocessing**.\n",
        "\n",
        "En fait, **dans ce modèle** nous allons utiliser une couche *Embedding* qui permet d'avoir une **représentation plus optimisée du texte**.\n",
        "\n",
        "Cette couche *Embedding* prend en entrée des **tenseurs**, cela implique qu'il faut que **tous nos vecteurs** (qui représentent les critiques) aient **la même taille**.\n",
        "\n",
        "Actuellement nous avons **plusieurs critiques de cinéma**. Certaines sont **courtes**, d'autres sont **longues**.\n",
        "\n",
        "Nous allons donc **normaliser** **les vecteurs** qui représentent les critiques pour qu'ils aient tous **une taille de 500** :\n",
        "\n",
        "- Pour les plus courts **on rajoute des 0** au début\n",
        "- Pour les plus longs **on tronque le vecteur**\n",
        "\n",
        "Heureusement, la **fonction de Keras** *sequence.pad_sequences()* permet de réaliser cela **simplement**.\n",
        "\n"
      ]
    },
    {
      "cell_type": "code",
      "metadata": {
        "colab": {
          "base_uri": "https://localhost:8080/"
        },
        "id": "G-8euAp2QS9D",
        "outputId": "a416d4ef-dc46-48f4-9301-20e0b327bc27"
      },
      "source": [
        "maxlen = 500\n",
        "\n",
        "x_train = sequence.pad_sequences(x_train, maxlen=maxlen)\n",
        "x_test = sequence.pad_sequences(x_test, maxlen=maxlen)\n",
        "\n",
        "print('x_train shape:', x_train.shape)\n",
        "print('x_test shape:', x_test.shape)"
      ],
      "execution_count": 2,
      "outputs": [
        {
          "output_type": "stream",
          "text": [
            "x_train shape: (25000, 500)\n",
            "x_test shape: (25000, 500)\n"
          ],
          "name": "stdout"
        }
      ]
    },
    {
      "cell_type": "markdown",
      "metadata": {
        "id": "7_cXddcixiVG"
      },
      "source": [
        "## **Construire le modèle**"
      ]
    },
    {
      "cell_type": "markdown",
      "metadata": {
        "id": "1uMfggNaxpO9"
      },
      "source": [
        "### **Couche d'Embedding**"
      ]
    },
    {
      "cell_type": "markdown",
      "metadata": {
        "id": "rOWG54qekeQs"
      },
      "source": [
        "Pour construire notre modèle, on commencer par **utiliser** la couche *Embedding*. Cette couche permet de **changer la représentation des données**.\n",
        "\n",
        "Au lieu d'avoir **un entier pour chaque mot**, on aura **un nombre réel entre 0 et 1 pour chaque mot**. Plus les mots sont **similaires** plus les nombres réels seront **proches**.\n",
        "\n",
        "Ainsi, les mot 'homme' et 'garçon' auront **une valeur très proche** car les deux mots ont **un sens très similaire**.\n",
        "\n",
        "Par exemple:\n",
        "- 'homme' donne 0.73\n",
        "- 'garçon' donne 0.69\n",
        "- 'fille' donne 0.39\n",
        "\n",
        "En quelque sorte la couche *Embedding* **traduit en langage informatique** le sens, **le contexte des critiques**.\n",
        "\n",
        "*Embedding* est une couche car c'est **un processus qui apprend**  durant le **Deep Learning**. À chaque **ajustement des poids**, la couche *Embedding* ajuste, elle aussi, ses poids et donc **ajuste sa représentation** des critiques de cinéma.\n",
        "\n",
        "Plus le modèle apprend, plus **la représentation sera précise**.\n",
        "\n",
        "Cette couche appliquant un **changement essentiel** pour nos données, elle sera toujours utilisée comme **première couche** d'un modèle."
      ]
    },
    {
      "cell_type": "code",
      "metadata": {
        "id": "Mkw5cmYlnIXn"
      },
      "source": [
        "from keras.models import Sequential\n",
        "from keras.layers import Embedding\n",
        "\n",
        "model = Sequential()\n",
        "model.add(Embedding(max_features, 32, input_length = maxlen))"
      ],
      "execution_count": 3,
      "outputs": []
    },
    {
      "cell_type": "markdown",
      "metadata": {
        "id": "58pXHw0kxtP5"
      },
      "source": [
        "### **Couche RNN Simple**"
      ]
    },
    {
      "cell_type": "markdown",
      "metadata": {
        "id": "H6bxoAta7_Pk"
      },
      "source": [
        "Enfin, on utilise la couche *SimpleRNN* qui est la **couche basique** pour faire du **RNN avec Keras** !\n",
        "\n",
        "*SimpleRNN* prend en entrée le **résultat** de la couche *Embedding*.\n",
        "\n",
        "On y inque la **dimension du vecteur de sortie**, ici **32**."
      ]
    },
    {
      "cell_type": "code",
      "metadata": {
        "id": "QoofQSU3oXos"
      },
      "source": [
        "from keras.layers import SimpleRNN\n",
        "\n",
        "model.add(SimpleRNN(32))"
      ],
      "execution_count": 4,
      "outputs": []
    },
    {
      "cell_type": "markdown",
      "metadata": {
        "id": "k0PmNX3MfiEZ"
      },
      "source": [
        "Pour la **couche de prédiction** on utilise *Dense* avec la fonction **sigmoïd** pour **fonction d'activation** comme expliqué [dans cet article](https://https://inside-machinelearning.com/fonction-dactivation-comment-ca-marche-une-explication-simple/)."
      ]
    },
    {
      "cell_type": "code",
      "metadata": {
        "id": "pcHkpOpKoZ3l"
      },
      "source": [
        "from keras.layers import Dense\n",
        "\n",
        "model.add(Dense(1, activation='sigmoid'))"
      ],
      "execution_count": 5,
      "outputs": []
    },
    {
      "cell_type": "markdown",
      "metadata": {
        "id": "5vJb8Mq4jfmR"
      },
      "source": [
        "On peut finalement voir le **schèma du modèle RNN** pour avoir une **meilleure représentation** de ce qu'on vient de **construire**."
      ]
    },
    {
      "cell_type": "code",
      "metadata": {
        "colab": {
          "base_uri": "https://localhost:8080/",
          "height": 422
        },
        "id": "McB_dxN0RcTk",
        "outputId": "33044fc4-5b62-4fed-ba55-3eedb727bff8"
      },
      "source": [
        "from keras.utils.vis_utils import plot_model\n",
        "\n",
        "plot_model(model, to_file='model_plot.png', show_shapes=True, show_layer_names=True)"
      ],
      "execution_count": 6,
      "outputs": [
        {
          "output_type": "execute_result",
          "data": {
            "image/png": "[encoded data removed]",
            "text/plain": [
              "<IPython.core.display.Image object>"
            ]
          },
          "metadata": {
            "tags": []
          },
          "execution_count": 6
        }
      ]
    },
    {
      "cell_type": "markdown",
      "metadata": {
        "id": "98XoHxXlgzGw"
      },
      "source": [
        "**Informations supplémentaire :**\n",
        "\n",
        "N'hésitez pas à **changer les dimensions du vecteur de sortie** de la couche *SimpleRNN* ou même à **ajouter d'autres couches** *SimpleRNN* car n'oubliez pas... le **Machine Learning** c'est avant tout **de la pratique et des tests personnels !** ;)\n",
        "\n",
        "Lorsqu'on ajoute des couches *SimpleRNN* il faut **insérer le paramètre** *return_sequences = True* dans les couches *SimpleRNN* supérieurs, comme suit :\n",
        "```\n",
        "model = Sequential()\n",
        "model.add(Embedding(max_features, 32, input_length = maxlen))\n",
        "model.add(SimpleRNN(64, return_sequences = True))\n",
        "model.add(SimpleRNN(32, return_sequences = True))\n",
        "model.add(SimpleRNN(32))\n",
        "model.add(Dense(1, activation='sigmoid'))\n",
        "```"
      ]
    },
    {
      "cell_type": "markdown",
      "metadata": {
        "id": "gS_XPTWWyTjk"
      },
      "source": [
        "## **Entraîner le modèle**"
      ]
    },
    {
      "cell_type": "markdown",
      "metadata": {
        "id": "2j3iNw8pnvuY"
      },
      "source": [
        "Pour entraîner le modèle il faut **configurer son apprentissage** en déterminant :\n",
        "- l'**optimisateur**\n",
        "- la **loss function**\n",
        "- la **métrique** pour l'évaluer"
      ]
    },
    {
      "cell_type": "code",
      "metadata": {
        "id": "InB_W3DeoUW8"
      },
      "source": [
        "model.compile(optimizer='rmsprop',\n",
        "              loss='binary_crossentropy',\n",
        "              metrics=['acc'])"
      ],
      "execution_count": 7,
      "outputs": []
    },
    {
      "cell_type": "markdown",
      "metadata": {
        "id": "UKhQ-OsCobZK"
      },
      "source": [
        "On **entraîne le modèle** avec la fonction *fit()*.\n",
        "\n",
        "On utilise un **paramètre** que nous n'avons pas vu précédement : *validation_split*.\n",
        "\n",
        "Ce paramètre permet de **prendre des données de validation** directement depuis les **données d'entraînement**.\n",
        "\n",
        "Ici, **20% des données d'entraînement** seront donc utilisées, non pas pour l'entrainement.. mais **pour la validation**."
      ]
    },
    {
      "cell_type": "code",
      "metadata": {
        "colab": {
          "base_uri": "https://localhost:8080/"
        },
        "id": "PFG09u-QoWEx",
        "outputId": "ab38660a-1448-43b1-f0f4-a09421b56bff"
      },
      "source": [
        "history = model.fit(x_train,\n",
        "                    y_train,\n",
        "                    epochs=10,\n",
        "                    batch_size=128,\n",
        "                    validation_split=0.2)"
      ],
      "execution_count": 8,
      "outputs": [
        {
          "output_type": "stream",
          "text": [
            "Epoch 1/10\n",
            "157/157 [==============================] - 52s 322ms/step - loss: 0.6702 - acc: 0.5629 - val_loss: 0.4925 - val_acc: 0.7792\n",
            "Epoch 2/10\n",
            "157/157 [==============================] - 49s 314ms/step - loss: 0.4822 - acc: 0.7831 - val_loss: 0.8451 - val_acc: 0.6146\n",
            "Epoch 3/10\n",
            "157/157 [==============================] - 49s 314ms/step - loss: 0.4494 - acc: 0.8013 - val_loss: 0.6872 - val_acc: 0.6846\n",
            "Epoch 4/10\n",
            "157/157 [==============================] - 49s 311ms/step - loss: 0.4055 - acc: 0.8241 - val_loss: 0.4240 - val_acc: 0.8254\n",
            "Epoch 5/10\n",
            "157/157 [==============================] - 49s 313ms/step - loss: 0.3634 - acc: 0.8507 - val_loss: 0.4469 - val_acc: 0.7938\n",
            "Epoch 6/10\n",
            "157/157 [==============================] - 50s 316ms/step - loss: 0.3495 - acc: 0.8572 - val_loss: 0.4354 - val_acc: 0.8240\n",
            "Epoch 7/10\n",
            "157/157 [==============================] - 50s 316ms/step - loss: 0.3305 - acc: 0.8644 - val_loss: 0.4042 - val_acc: 0.8312\n",
            "Epoch 8/10\n",
            "157/157 [==============================] - 49s 311ms/step - loss: 0.3084 - acc: 0.8750 - val_loss: 0.4612 - val_acc: 0.8074\n",
            "Epoch 9/10\n",
            "157/157 [==============================] - 49s 312ms/step - loss: 0.2855 - acc: 0.8823 - val_loss: 0.4916 - val_acc: 0.7786\n",
            "Epoch 10/10\n",
            "157/157 [==============================] - 50s 317ms/step - loss: 0.2571 - acc: 0.8987 - val_loss: 0.5128 - val_acc: 0.7766\n"
          ],
          "name": "stdout"
        }
      ]
    },
    {
      "cell_type": "markdown",
      "metadata": {
        "id": "eYfCYxuNyW8P"
      },
      "source": [
        "## **Évaluer le modèle**"
      ]
    },
    {
      "cell_type": "markdown",
      "metadata": {
        "id": "5rPu_8uppGaM"
      },
      "source": [
        "La dernière étape est l'**évaluation des performances** du modèle.\n",
        "\n",
        "On **compare** la **précision** qu'il a sur les **données d'entraînement** avec celle qu'il a eu sur les **données de validation**. Puis, on fait la même chose avec **son erreur**, sa perte.\n",
        "\n",
        "Si l'**écart est trop grand** le modèle est en **overfitting**, il faudra alors le réajuster."
      ]
    },
    {
      "cell_type": "code",
      "metadata": {
        "colab": {
          "base_uri": "https://localhost:8080/",
          "height": 545
        },
        "id": "e1tFVUBVnVZm",
        "outputId": "0acdfd30-a17a-4424-f2a9-7d0f08740669"
      },
      "source": [
        "import matplotlib.pyplot as plt\n",
        "\n",
        "acc = history.history['acc']\n",
        "val_acc = history.history['val_acc']\n",
        "loss = history.history['loss']\n",
        "val_loss = history.history['val_loss']\n",
        "\n",
        "epochs = range(1, len(acc) + 1)\n",
        "\n",
        "plt.plot(epochs, acc, 'bo', label='Training acc')\n",
        "plt.plot(epochs, val_acc, 'b', label='Validation acc')\n",
        "plt.title('Training and validation accuracy')\n",
        "plt.legend()\n",
        "\n",
        "plt.figure()\n",
        "\n",
        "plt.plot(epochs, loss, 'bo', label='Training loss')\n",
        "plt.plot(epochs, val_loss, 'b', label='Validation loss')\n",
        "plt.title('Training and validation loss')\n",
        "plt.legend()\n",
        "\n",
        "plt.show()"
      ],
      "execution_count": 9,
      "outputs": [
        {
          "output_type": "display_data",
          "data": {
            "image/png": "[encoded data removed]",
            "text/plain": [
              "<Figure size 432x288 with 1 Axes>"
            ]
          },
          "metadata": {
            "tags": [],
            "needs_background": "light"
          }
        },
        {
          "output_type": "display_data",
          "data": {
            "image/png": "[encoded data removed]",
            "text/plain": [
              "<Figure size 432x288 with 1 Axes>"
            ]
          },
          "metadata": {
            "tags": [],
            "needs_background": "light"
          }
        }
      ]
    },
    {
      "cell_type": "markdown",
      "metadata": {
        "id": "fiyOiPnmpnxn"
      },
      "source": [
        "Si les **performances** ne nous conviennent pas, on peut **ré-entrainer le modèle** avec **différents paramètres** ou en **ajoutant des couches**.\n",
        "\n",
        "Sinon, on **évalue** notre modèle sur les **données de test** ! "
      ]
    },
    {
      "cell_type": "code",
      "metadata": {
        "id": "cc8EwmCCwE7d",
        "colab": {
          "base_uri": "https://localhost:8080/"
        },
        "outputId": "3df61295-0fe6-4000-9d78-a94449d78782"
      },
      "source": [
        "model.evaluate(x_test, y_test)"
      ],
      "execution_count": 10,
      "outputs": [
        {
          "output_type": "stream",
          "text": [
            "782/782 [==============================] - 22s 28ms/step - loss: 0.5129 - acc: 0.7681\n"
          ],
          "name": "stdout"
        },
        {
          "output_type": "execute_result",
          "data": {
            "text/plain": [
              "[0.5128501653671265, 0.7680799961090088]"
            ]
          },
          "metadata": {
            "tags": []
          },
          "execution_count": 10
        }
      ]
    }
  ]
}